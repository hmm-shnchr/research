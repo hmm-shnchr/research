{
 "cells": [
  {
   "cell_type": "code",
   "execution_count": 1,
   "metadata": {},
   "outputs": [],
   "source": [
    "import numpy as np\n",
    "import pandas as pd\n",
    "import copy\n",
    "import pickle"
   ]
  },
  {
   "cell_type": "code",
   "execution_count": 2,
   "metadata": {},
   "outputs": [],
   "source": [
    "## Load Mainbranch file ##\n",
    "read_cols = 61\n",
    "col_names = [\"ch{0:02d}\".format(i) for i in range(read_cols)]\n",
    "\n",
    "mainbranch_list = [\"mainbranch_MW039.csv\", \"mainbranch_MW038.csv\"]\n",
    "df_dict = {}\n",
    "for key in mainbranch_list:\n",
    "    df_dict[key] = np.array(pd.read_csv(key, names = col_names, dtype = str))"
   ]
  },
  {
   "cell_type": "code",
   "execution_count": 3,
   "metadata": {},
   "outputs": [],
   "source": [
    "## Define a GetInfoTree object ##\n",
    "class GetInfoTree:\n",
    "\n",
    "    def __init__(self, df):\n",
    "        self.df = df\n",
    "        self.tree_index = np.where(df==\"tree\")[0]\n",
    "\n",
    "    def get_info(self, ch):\n",
    "        ## Extract channel of self.df ##\n",
    "        return_list = []\n",
    "        for t_idx in range(len(self.tree_index)):\n",
    "            if t_idx != len(self.tree_index)-1:\n",
    "                current_tree = self.df[self.tree_index[t_idx]+1:self.tree_index[t_idx+1]]\n",
    "            else:\n",
    "                current_tree = self.df[self.tree_index[t_idx]+1:]\n",
    "            info_list = []\n",
    "            for current_halo in range(current_tree.shape[0]):\n",
    "                info_list.append(float(current_tree[current_halo, ch]))\n",
    "            return_list.append(info_list)\n",
    "\n",
    "        return return_list\n",
    "\n",
    "getinfo_dict = {}\n",
    "for key in mainbranch_list:\n",
    "    getinfo_dict[key] = GetInfoTree(df_dict[key])"
   ]
  },
  {
   "cell_type": "code",
   "execution_count": 14,
   "metadata": {},
   "outputs": [],
   "source": [
    "## Specify the column number of  parameters to be extract as a list. ##\n",
    "## See MergerTree about the correspondence between column number and parameter. ##\n",
    "param_list = [0, 1, 5, 10, 11, 17, 20]\n",
    "param_name_list = [\"ScaleFactor\", \"ID\", \"pid\", \"Mvir\", \"Rvir\", \"x\", \"vx\"]\n",
    "range_min, range_max = \"1e+6\", \"1e+18\"\n",
    "param_dict = {}\n",
    "for i in range(len(param_list)):\n",
    "    param_dict[param_name_list[i]] = param_list[i]"
   ]
  },
  {
   "cell_type": "code",
   "execution_count": 15,
   "metadata": {},
   "outputs": [],
   "source": [
    "pickle_name = \"_\" + range_min + \"_\" + range_max\n",
    "for p_name in param_name_list:\n",
    "    pickle_name += \"_\" + p_name\n",
    "pickle_name += \".pickle\""
   ]
  },
  {
   "cell_type": "code",
   "execution_count": 16,
   "metadata": {},
   "outputs": [],
   "source": [
    "## Extract the specified parameters by param_dict. ##\n",
    "param = {}\n",
    "for param_key in param_name_list:\n",
    "    param[param_key] = {}\n",
    "    for m_key in mainbranch_list:\n",
    "        param[param_key][m_key] = getinfo_dict[m_key].get_info(param_dict[param_key])"
   ]
  },
  {
   "cell_type": "code",
   "execution_count": 17,
   "metadata": {},
   "outputs": [],
   "source": [
    "## Extract Mvir(z=0) of all haloes to get use_idx_dict. ##\n",
    "if \"Mvir\" in param_name_list:\n",
    "    mvir_z0 = {}\n",
    "    for m_key in mainbranch_list:\n",
    "        mvir_z0_list = []\n",
    "        for idx in range(len(param[\"Mvir\"][m_key])):\n",
    "            mvir_z0_list.append(param[\"Mvir\"][m_key][idx][-1])\n",
    "        mvir_z0[m_key] = mvir_z0_list"
   ]
  },
  {
   "cell_type": "code",
   "execution_count": 18,
   "metadata": {},
   "outputs": [
    {
     "name": "stdout",
     "output_type": "stream",
     "text": [
      "m_key : mainbranch_MW039.csv,  length : 4355\n",
      "m_key : mainbranch_MW038.csv,  length : 3345\n"
     ]
    }
   ],
   "source": [
    "def classified_index(classify_list, min_val, max_val):\n",
    "    index_list = []\n",
    "    for idx, elem in enumerate(classify_list):\n",
    "        if elem >= min_val and elem <= max_val:\n",
    "            index_list.append(idx)\n",
    "    return index_list\n",
    "\n",
    "use_idx_dict = {}\n",
    "for m_key in mainbranch_list:\n",
    "    use_idx_dict[m_key] = classified_index(mvir_z0[m_key], float(range_min), float(range_max))\n",
    "    print(\"m_key : {},  length : {}\".format(m_key, len(use_idx_dict[m_key])))  ##Number of using halo of each MW0XY.tree"
   ]
  },
  {
   "cell_type": "code",
   "execution_count": 19,
   "metadata": {},
   "outputs": [],
   "source": [
    "## Extract a host halo. ##\n",
    "host_param = {}\n",
    "for param_key in param_name_list:\n",
    "    host_param[param_key] = {}\n",
    "    for m_key in mainbranch_list:\n",
    "        host_param[param_key][m_key] = np.array(param[param_key][m_key][0])\n",
    "        \n",
    "m_str = \"\"\n",
    "for m_key in mainbranch_list:\n",
    "    m_str += m_key[11:16] + \"_\"\n",
    "with open(\"host_param\" + pickle_name[:-7] + \"_\" + m_str[:-1] + \".pickle\", mode = \"wb\") as f:\n",
    "    pickle.dump(host_param, f)"
   ]
  },
  {
   "cell_type": "code",
   "execution_count": 20,
   "metadata": {},
   "outputs": [],
   "source": [
    "## Extract using haloes as param_use_idx. ##\n",
    "param_use_idx = {}\n",
    "for p_key in param_name_list:\n",
    "    param_use_idx[p_key] = {}\n",
    "    for m_key in mainbranch_list:\n",
    "        param_use_idx[p_key][m_key] = []\n",
    "        for use_idx in use_idx_dict[m_key]:\n",
    "            if use_idx == 0:\n",
    "                continue\n",
    "            param_use_idx[p_key][m_key].append(np.array(param[p_key][m_key][use_idx]))\n",
    "        #print(\"{}({}) : {}\".format(p_key, m_key, len(param_use_idx[p_key][m_key])))\n",
    "with open(\"param\" + pickle_name[:-7] + \"_\" + m_str[:-1] + \".pickle\", mode = \"wb\") as f:\n",
    "    pickle.dump(param_use_idx, f)"
   ]
  },
  {
   "cell_type": "code",
   "execution_count": 21,
   "metadata": {},
   "outputs": [],
   "source": [
    "with open(\"../param_list.txt\", mode = \"a\") as f:\n",
    "    f.writelines(\"param\" + pickle_name[:-7] + \"_\" + m_str[:-1] + \".pickle\" + \"\\n\")"
   ]
  }
 ],
 "metadata": {
  "kernelspec": {
   "display_name": "Python 3",
   "language": "python",
   "name": "python3"
  },
  "language_info": {
   "codemirror_mode": {
    "name": "ipython",
    "version": 3
   },
   "file_extension": ".py",
   "mimetype": "text/x-python",
   "name": "python",
   "nbconvert_exporter": "python",
   "pygments_lexer": "ipython3",
   "version": "3.7.3"
  }
 },
 "nbformat": 4,
 "nbformat_minor": 2
}
