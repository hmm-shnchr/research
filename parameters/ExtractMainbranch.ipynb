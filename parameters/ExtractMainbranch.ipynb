{
 "cells": [
  {
   "cell_type": "code",
   "execution_count": 1,
   "metadata": {},
   "outputs": [],
   "source": [
    "import numpy as np\n",
    "import pandas as pd\n",
    "import os, sys, shutil, csv"
   ]
  },
  {
   "cell_type": "code",
   "execution_count": 2,
   "metadata": {},
   "outputs": [],
   "source": [
    "read_cols = 61\n",
    "name_df = \"MW035.tree\"\n",
    "col_names = [\"ch{0:02d}\".format(i) for i in range(read_cols)]\n",
    "open_fname = \"mainbranch_\" + name_df[:-5] + \".csv\""
   ]
  },
  {
   "cell_type": "code",
   "execution_count": 3,
   "metadata": {},
   "outputs": [],
   "source": [
    "df = pd.read_csv(name_df, names = col_names, delim_whitespace = True, dtype = str)"
   ]
  },
  {
   "cell_type": "code",
   "execution_count": 4,
   "metadata": {},
   "outputs": [
    {
     "name": "stdout",
     "output_type": "stream",
     "text": [
      "55000\n"
     ]
    }
   ],
   "source": [
    "##Get row number of ch00 == \"#tree\"\n",
    "tree_index = list(df.reset_index().query(\"ch00 == '#tree'\").index)\n",
    "print(len(tree_index))"
   ]
  },
  {
   "cell_type": "code",
   "execution_count": 5,
   "metadata": {},
   "outputs": [],
   "source": [
    "file_mainbranch = open(open_fname, mode = \"a\", newline = \"\")\n",
    "writer_mainbranch = csv.writer(file_mainbranch)\n",
    "\n",
    "##Reference all merger trees in this file with for-loop\n",
    "for t_idx in range(len(tree_index)):\n",
    "    \n",
    "    if t_idx != len(tree_index)-1:\n",
    "        current_df = df[tree_index[t_idx]:tree_index[t_idx+1]].reset_index()\n",
    "    else:\n",
    "        current_df = df[tree_index[t_idx]:].reset_index()\n",
    "    ##Get depth_first_id(ch28) of a last halo in a main branch from the root halo\n",
    "    last_mainleaf_depthfirst_id = str(current_df.at[current_df.index[1], \"ch34\"])\n",
    "    \n",
    "    ##Go to the last halo in the main branch with depth_first_id(ch28)\n",
    "    current_halo = int(list(current_df.query(\"ch28 == @last_mainleaf_depthfirst_id\").index)[0])\n",
    "\n",
    "    writer_mainbranch.writerow([\"tree\"])\n",
    "    ##Get the main branch from the last halo with desc_id(ch03) and id(ch01)\n",
    "    while True:\n",
    "        current_data = []\n",
    "        ##Save each parameters\n",
    "        for col in col_names:\n",
    "            data = current_df.at[current_df.index[current_halo], col]\n",
    "            current_data.append(data)\n",
    "        writer_mainbranch.writerow(current_data)\n",
    "        \n",
    "        ##ch03 == -1 indicates root halo in the tree\n",
    "        if current_df.at[current_df.index[current_halo], \"ch03\"] == \"-1\":\n",
    "            break\n",
    "        desc_id = str(current_df.at[current_df.index[current_halo], \"ch03\"])\n",
    "        ##desc_id indicates an id(ch01) of descendant halo\n",
    "        current_halo = int(list(current_df.query(\"ch01 == @desc_id\").index)[0])\n",
    "        if current_halo == 0:\n",
    "            current_halo += 1\n",
    "\n",
    "file_mainbranch.close()"
   ]
  }
 ],
 "metadata": {
  "kernelspec": {
   "display_name": "Python 3",
   "language": "python",
   "name": "python3"
  },
  "language_info": {
   "codemirror_mode": {
    "name": "ipython",
    "version": 3
   },
   "file_extension": ".py",
   "mimetype": "text/x-python",
   "name": "python",
   "nbconvert_exporter": "python",
   "pygments_lexer": "ipython3",
   "version": "3.7.3"
  }
 },
 "nbformat": 4,
 "nbformat_minor": 2
}
