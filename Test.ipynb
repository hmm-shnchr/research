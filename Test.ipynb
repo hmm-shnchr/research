{
 "cells": [
  {
   "cell_type": "code",
   "execution_count": 8,
   "metadata": {},
   "outputs": [],
   "source": [
    "##Import some modules used for this notebook.\n",
    "import os, sys, shutil\n",
    "import numpy as np\n",
    "import itertools as it\n",
    "import copy as cp\n",
    "import pickle"
   ]
  },
  {
   "cell_type": "code",
   "execution_count": 28,
   "metadata": {},
   "outputs": [
    {
     "name": "stdout",
     "output_type": "stream",
     "text": [
      "0. param_1e+6_1e+18_ScaleFactor_ID_pid_Mvir_Rvir_x_vx_MW039_MW038.pickle\n",
      "1. param_1e+7_1e+18_ScaleFactor_ID_pid_Mvir_Rvir_x_vx_MW039_MW038.pickle\n",
      "\n",
      "Select index>> 0\n",
      "['ScaleFactor', 'ID', 'pid', 'Mvir', 'Rvir', 'x', 'vx']\n",
      "['mainbranch_MW039.csv', 'mainbranch_MW038.csv']\n"
     ]
    }
   ],
   "source": [
    "##Print a dir_list which is a list of ectracted parameters.\n",
    "##The parameters are made by ./parameter/MakePickleOfParam.ipynb.\n",
    "dir_list = np.loadtxt(\"param_list.txt\", dtype = \"str\")\n",
    "for i in range(len(dir_list)):\n",
    "    print(\"{}. {}\".format(i, dir_list[i]))\n",
    "\n",
    "##Input index-number of param_list.txt in dir_num to select it.\n",
    "##Load the parameters of host-halo and sub-halo.\n",
    "dir_num = int(input(\"\\nSelect index>> \"))\n",
    "with open(\"parameters/\" + dir_list[dir_num], mode = \"rb\") as f:\n",
    "    param = pickle.load(f)\n",
    "with open(\"parameters/host_\" + dir_list[dir_num], mode = \"rb\") as f:\n",
    "    host_param = pickle.load(f)\n",
    "\n",
    "##The list of used parameters and host-halo.\n",
    "param_list = list(param.keys())\n",
    "mainbranch_list = list(param[param_list[0]].keys())\n",
    "print(param_list)\n",
    "print(mainbranch_list)"
   ]
  },
  {
   "cell_type": "code",
   "execution_count": 106,
   "metadata": {},
   "outputs": [],
   "source": [
    "##Get zacc of each sub-halo as acc_sf(Data type is dictionary).\n",
    "##The zacc is a time when ID of host-halo and pid of sub-halo match.\n",
    "acc_sf = {}\n",
    "for m_key in mainbranch_list:\n",
    "    acc_sf[m_key] = []\n",
    "    for idx, parameter in enumerate(param[\"pid\"][m_key]):\n",
    "        for i in range(parameter.size):\n",
    "            host_i = host_param[\"ID\"][m_key].size - parameter.size + i\n",
    "            if host_param[\"ID\"][m_key][host_i] == parameter[i]:\n",
    "                acc_sf[m_key].append(i)\n",
    "                break\n",
    "            elif i == parameter.size-1:\n",
    "                acc_sf[m_key].append(-1)"
   ]
  },
  {
   "cell_type": "code",
   "execution_count": 107,
   "metadata": {},
   "outputs": [],
   "source": [
    "##Describe variables of learning-parameter of a DeepLearningModel in LearnParam.\n",
    "class LearnParam:\n",
    "    def __init__(self):\n",
    "        self.eps = 1.0  ##Prevent devision by zero like 1 / (0 + eps).\n",
    "        self.bias = True ##If This bias is True, add normalized dataset to bias.\n",
    "        self.hidden = [[100]*5]  ##Defines number of hidden layers and neurons in each layers.\n",
    "        self.batch_denominator = [200]  ##Defines a size of mini-batch as size(train-dataset) /  batch_denominator.\n",
    "        self.learn_rate = [\"1e-3\"]  ##Learning rate of Back propagation.\n",
    "        self.optimizer = [\"Adam\"]  ##Optimizer of the DeepLearningModel.\n",
    "        self.batch_normalization = [True]  ##Whether to use BatchNormalization or not.\n",
    "        self.loss_func = [\"MSE_RE\"]  ##Loss function of a DeepLearning model.\n",
    "        self.activation_func = [\"relu\"]  ##Activation function of the hidden layers.\n",
    "        self.weight_init = [\"he\"]  ##Condition for initializing weight of the hidden layers.\n",
    "        self.epoch = 200  ##Training epoch.\n",
    "        self.input_size = 2  ##Size of input-dataset(axis == 1)\n",
    "        self.output_size = 7  ##Size of output-dataset(axis == 1)\n",
    "        self.param_kind = \"x\"  ##Learning parameter.\n",
    "        self.train_ratio = 0.7  ##Percentage of training-dataset to all-dataset.\n",
    "        self.normalize_format = \"Normalization\"  ##Selects a format of dataset normalization in None, Normalization, Standardization.\n",
    "        self.extract_dataset = \"After_acc\"  ##Selects a condition of dataset.\n",
    "        ##All is overall, Before/After_acc is in part of before/after accretion, All(_not)_acc is overall of (not)accreted sub-halo.\n",
    "        self.learn_num = 1  ##Distinguishes the directories where training results are saved.\n",
    "        self.save_fig_type = \".png\"  ##Format of the saved figures."
   ]
  },
  {
   "cell_type": "code",
   "execution_count": 108,
   "metadata": {},
   "outputs": [],
   "source": [
    "##Extract the data to be used as dataset(data type is double-dictionary).\n",
    "##Data structure of the dataset is that axis1 is host-halo(ex:MW039, MW038), axis2 is sub-halo.\n",
    "def make_dataset(m_list, p_kind, h_param, param, ext_data, acc_sf):\n",
    "    dataset = {}\n",
    "    for m_key in m_list:\n",
    "        dataset[m_key] = []\n",
    "        for idx, parameter in enumerate(param[p_kind][m_key]):\n",
    "            ##If the data used is after accretion(ext_data == After_Acc), extract after accretion point.\n",
    "            ##The accretion point is taken from the acc_sf as start_i.\n",
    "            start_i = 0\n",
    "            if ext_data in [\"After_acc\", \"All_acc\"]:\n",
    "                if acc_sf[m_key][idx] == -1:\n",
    "                    ##The acc_sf == -1 is not accretion so skip this halo.\n",
    "                    continue\n",
    "                elif ext_data == \"After_acc\":\n",
    "                    start_i = acc_sf[m_key][idx]\n",
    "            if p_kind in [\"x\", \"y\", \"z\"]:\n",
    "                ##If p_kind is coordinate, use relative value of sub-halo to host-halo.\n",
    "                data = parameter[start_i:]\n",
    "                host_i = data.size\n",
    "                data -= h_param[p_kind][m_key][-host_i:]\n",
    "                dataset[m_key].append(data)\n",
    "            else:\n",
    "                data = parameter[start_i:]\n",
    "    return dataset"
   ]
  },
  {
   "cell_type": "code",
   "execution_count": 117,
   "metadata": {},
   "outputs": [],
   "source": [
    "class Normalization:\n",
    "    def __init__(self, m_list, norm_format, bias, eps):\n",
    "        self.m_list = m_list\n",
    "        self.norm_format = norm_format\n",
    "        self.bias = bias\n",
    "        self.eps = eps\n",
    "        print(\"m_list : {}\".format(self.m_list))\n",
    "        print(\"norm_format : {}\".format(self.norm_format))\n",
    "        print(\"bias : {}\".format(self.bias))\n",
    "        if self.bias:\n",
    "            print(\"eps : {}\".format(self.eps))\n",
    "        self.param_min, self.param_max = None, None\n",
    "        self.mean, self.stddev = None, None\n",
    "        \n",
    "    def run(self, dataset):\n",
    "        if self.norm_format == \"Normalization\":\n",
    "            dataset_normed = self.__normalize(cp.deepcopy(dataset))\n",
    "        if self.norm_format == \"Standardization\":\n",
    "            dataset_normed = self.__standardization(cp.deepcopy(dataset))\n",
    "        if self.norm_format == \"None\":\n",
    "            dataset_normed = self.__none(cp.deepcopy(dataset))\n",
    "        return dataset_normed\n",
    "        \n",
    "    def __normalize(self, dataset):\n",
    "        param_min, param_max = {}, {}\n",
    "        for m_key in self.m_list:\n",
    "            param_min[m_key], param_max[m_key] = np.inf, -np.inf\n",
    "            for param in dataset[m_key]:\n",
    "                if param.min() < param_min[m_key]:\n",
    "                    param_min[m_key] = param.min()\n",
    "                if param.max() > param_max[m_key]:\n",
    "                    param_max[m_key] = param.max()\n",
    "            for param in dataset[m_key]:\n",
    "                param -= param_min[m_key]\n",
    "                param /= (param_max[m_key] - param_min[m_key])\n",
    "                if self.bias:\n",
    "                    param += self.eps\n",
    "        self.param_min, self.param_max = param_min, param_max\n",
    "        return dataset\n",
    "    \n",
    "    def __inv_normalize(self, dataset):\n",
    "        for m_key in self.m_list:\n",
    "            for param in dataset[m_key]:\n",
    "                if self.bias:\n",
    "                    param -= self.eps\n",
    "                param *= (self.param_max[m_key] - self.param_min[m_key])\n",
    "                param += self.param_min[m_key]\n",
    "        return dataset\n",
    "    \n",
    "    def __standardize(self, dataset):\n",
    "        mean, stddev = {}, {}\n",
    "        for m_key in self.m_list:\n",
    "            denominator = 0\n",
    "            mean[m_key] = 0\n",
    "            stddev[m_key] = 0\n",
    "            for param in dataset[m_key]:\n",
    "                mean[m_key] += np.sum(param)\n",
    "                denominator += param.size()\n",
    "            for param in dataset[m_key]:\n",
    "                stddev[m_key] += np.sum((param - mean[m_key])**2)\n",
    "            stddev[m_key] = np.sqrt(stddev[m_key] / denominator)\n",
    "            for param in dataset[m_key]:\n",
    "                param = (param - mean[m_key]) / stddev[m_key]\n",
    "        self.mean, self.stddev = mean, stddev\n",
    "        return dataset\n",
    "    \n",
    "    def __inv_standardize(self, dataset):\n",
    "        for m_key in self.m_list:\n",
    "            for param in dataset[m_key]:\n",
    "                param *= self.stddev[m_key]\n",
    "                param += self.mean[m_key]\n",
    "        return dataset\n",
    "    \n",
    "    def __none(self, dataset):\n",
    "        if self.bias:\n",
    "            for m_key in self.m_list:\n",
    "                for param in dataset[m_key]:\n",
    "                    param += self.eps\n",
    "        return dataset\n",
    "    \n",
    "    def __inv_none(self, dataset):\n",
    "        if self.bias:\n",
    "            for m_key in self.m_list:\n",
    "                for param in dataset[m_key]:\n",
    "                    param -= self.eps\n",
    "        return dataset"
   ]
  },
  {
   "cell_type": "code",
   "execution_count": 118,
   "metadata": {},
   "outputs": [],
   "source": [
    "LP = LearnParam()\n",
    "dataset = make_dataset(mainbranch_list, LP.param_kind, host_param, param, LP.extract_dataset, acc_sf)"
   ]
  },
  {
   "cell_type": "code",
   "execution_count": 119,
   "metadata": {},
   "outputs": [
    {
     "name": "stdout",
     "output_type": "stream",
     "text": [
      "m_list : ['mainbranch_MW039.csv', 'mainbranch_MW038.csv']\n",
      "norm_format : Normalization\n",
      "bias : True\n",
      "eps : 1.0\n"
     ]
    }
   ],
   "source": [
    "Normalization = Normalization(mainbranch_list, LP.normalize_format, LP.bias, LP.eps)"
   ]
  },
  {
   "cell_type": "code",
   "execution_count": 120,
   "metadata": {},
   "outputs": [],
   "source": [
    "dataset_normed = Normalization.run(dataset)"
   ]
  }
 ],
 "metadata": {
  "kernelspec": {
   "display_name": "Python 3",
   "language": "python",
   "name": "python3"
  },
  "language_info": {
   "codemirror_mode": {
    "name": "ipython",
    "version": 3
   },
   "file_extension": ".py",
   "mimetype": "text/x-python",
   "name": "python",
   "nbconvert_exporter": "python",
   "pygments_lexer": "ipython3",
   "version": "3.8.5"
  }
 },
 "nbformat": 4,
 "nbformat_minor": 2
}
