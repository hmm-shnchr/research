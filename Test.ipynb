{
 "cells": [
  {
   "cell_type": "code",
   "execution_count": 1,
   "metadata": {},
   "outputs": [],
   "source": [
    "##Import some modules used for this notebook.\n",
    "import os, sys, shutil\n",
    "import numpy as np\n",
    "import itertools as it\n",
    "import copy as cp\n",
    "import pickle"
   ]
  },
  {
   "cell_type": "code",
   "execution_count": 15,
   "metadata": {},
   "outputs": [
    {
     "name": "stdout",
     "output_type": "stream",
     "text": [
      "0. param_1e+6_1e+18_ScaleFactor_pid_Mvir_Rvir_x_vx_MW039_MW038.pickle\n",
      "1. param_1e+7_1e+18_ScaleFactor_pid_Mvir_Rvir_x_vx_MW039_MW038.pickle\n",
      "2. param_1e+7_1e+18_ScaleFactor_ID_pid_Mvir_Rvir_x_vx_MW039_MW038.pickle\n",
      "Select index>> 2\n",
      "['ScaleFactor', 'ID', 'pid', 'Mvir', 'Rvir', 'x', 'vx']\n",
      "['mainbranch_MW039.csv', 'mainbranch_MW038.csv']\n"
     ]
    }
   ],
   "source": [
    "##Print a dir_list which is a list of ectracted parameters.\n",
    "##The parameters are made by ./parameter/MakePickleOfParam.ipynb.\n",
    "dir_list = np.loadtxt(\"param_list.txt\", dtype = \"str\")\n",
    "for i in range(len(dir_list)):\n",
    "    print(\"{}. {}\".format(i, dir_list[i]))\n",
    "\n",
    "##Input index-number of param_list.txt in dir_num to select it.\n",
    "##Load the parameters of host-halo and sub-halo.\n",
    "dir_num = int(input(\"\\nSelect index>> \"))\n",
    "with open(\"parameters/\" + dir_list[dir_num], mode = \"rb\") as f:\n",
    "    param = pickle.load(f)\n",
    "with open(\"parameters/host_\" + dir_list[dir_num], mode = \"rb\") as f:\n",
    "    host_param = pickle.load(f)\n",
    "\n",
    "##The list of used parameters and host-halo.\n",
    "param_list = list(param.keys())\n",
    "mainbranch_list = list(param[param_list[0]].keys())\n",
    "print(param_list)\n",
    "print(mainbranch_list)"
   ]
  },
  {
   "cell_type": "code",
   "execution_count": 23,
   "metadata": {},
   "outputs": [],
   "source": [
    "##Get zacc of each sub-halo as acc_sf(Data type is dictionary).\n",
    "##The zacc is a time when ID of host-halo and pid of sub-halo match.\n",
    "acc_sf = {}\n",
    "for m_key in mainbranch_list:\n",
    "    acc_sf[m_key] = []\n",
    "    for idx, parameter in enumerate(param[\"pid\"][m_key]):\n",
    "        for i in range(len(parameter)):\n",
    "            host_i = len(host_param[\"ID\"][m_key]) - len(parameter) + i\n",
    "            if host_param[\"ID\"][m_key][host_i] == parameter[i]:\n",
    "                acc_sf[m_key].append(i)\n",
    "                break\n",
    "            acc_sf[m_key].append(-1)"
   ]
  },
  {
   "cell_type": "code",
   "execution_count": 24,
   "metadata": {},
   "outputs": [],
   "source": [
    "##Describe variables of learning-parameter of a DeepLearningModel in LearnParam.\n",
    "class LearnParam:\n",
    "    def __init__(self):\n",
    "        self.eps = 1.0  ##Prevent devision by zero like 1 / (0 + eps).\n",
    "        self.bias = True ##If This bias is True, add normalized dataset to bias.\n",
    "        self.hidden = [[100]*5]  ##Defines number of hidden layers and neurons in each layers.\n",
    "        self.batch_denominator = [200]  ##Defines a size of mini-batch as size(train-dataset) /  batch_denominator.\n",
    "        self.learn_rate = [\"1e-3\"]  ##Learning rate of Back propagation.\n",
    "        self.optimizer = [\"Adam\"]  ##Optimizer of the DeepLearningModel.\n",
    "        self.batch_normalization = [True]  ##Whether to use BatchNormalization or not.\n",
    "        self.loss_func = [\"MSE_RE\"]  ##Loss function of a DeepLearning model.\n",
    "        self.activation_func = [\"relu\"]  ##Activation function of the hidden layers.\n",
    "        self.weight_init = [\"he\"]  ##Condition for initializing weight of the hidden layers.\n",
    "        self.epoch = 200  ##Training epoch.\n",
    "        self.input_size = 2  ##Size of input-dataset(axis == 1)\n",
    "        self.output_size = 7  ##Size of output-dataset(axis == 1)\n",
    "        self.param_kind = \"x\"  ##Learning parameter.\n",
    "        self.train_ratio = 0.7  ##Percentage of training-dataset to all-dataset.\n",
    "        self.normalize_format = \"None\"  ##Selects a format of dataset normalization in None, Normalization, Standardization.\n",
    "        self.extract_dataset = \"All\"  ##Selects a condition of dataset.\n",
    "        ##All is overall, Before/After_acc is in part of before/after accretion, All(_not)_acc is overall of (not)accreted sub-halo.\n",
    "        self.learn_num = 1  ##Distinguishes the directories where training results are saved.\n",
    "        self.save_fig_type = \".png\"  ##Format of the saved figures."
   ]
  },
  {
   "cell_type": "code",
   "execution_count": 27,
   "metadata": {},
   "outputs": [],
   "source": [
    "##Extract the data to be used as dataset(data type is double-dictionary).\n",
    "##Data structure of the dataset is that axis1 is host-halo(ex:MW039, MW038), axis2 is sub-halo.\n",
    "def make_dataset(m_list, p_kind, h_param, param, ext_data, acc_sf):\n",
    "    dataset = {}\n",
    "    for m_key in m_list:\n",
    "        dataset[m_key] = []\n",
    "        for idx, parameter in enumerate(param[p_kind][m_key]):\n",
    "            ##If the data used is after accretion(ext_data == After_Acc), extract after accretion point.\n",
    "            ##The accretion point is taken from the acc_sf as start_i.\n",
    "            start_i = 0\n",
    "            if ext_data in [\"After_acc\", \"All_acc\"]:\n",
    "                if acc_sf[m_key][idx] == -1:\n",
    "                    ##The acc_sf == -1 is not accretion so skip this halo.\n",
    "                    continue\n",
    "                elif ext_data == \"After_acc\":\n",
    "                    start_i = acc_sf[m_key][idx]\n",
    "            if p_kind in [\"x\", \"y\", \"z\"]:\n",
    "                ##If p_kind is coordinate, use relative value of sub-halo to host-halo.\n",
    "                data = np.array(parameter[start_i:])\n",
    "                host_i = data.size\n",
    "                data -= np.array(h_param[p_key][m_key][-host_i:])\n",
    "                dataset[m_key].append(data)\n",
    "            else:\n",
    "                data = parameter[start_i:]\n",
    "    return dataset"
   ]
  },
  {
   "cell_type": "code",
   "execution_count": null,
   "metadata": {},
   "outputs": [],
   "source": [
    "class Normalization:\n",
    "    def __init__(self, m_list, norm_format, eps):\n",
    "        self.m_list = m_list\n",
    "        self.norm_format = norm_format\n",
    "        self.eps = eps"
   ]
  },
  {
   "cell_type": "code",
   "execution_count": null,
   "metadata": {},
   "outputs": [],
   "source": [
    "LP = LearnParam()\n",
    "dataset = make_dataset(mainbranch_list, LP.param_kind, host_param, param, LP.extract_dataset, acc_sf)"
   ]
  }
 ],
 "metadata": {
  "kernelspec": {
   "display_name": "Python 3",
   "language": "python",
   "name": "python3"
  },
  "language_info": {
   "codemirror_mode": {
    "name": "ipython",
    "version": 3
   },
   "file_extension": ".py",
   "mimetype": "text/x-python",
   "name": "python",
   "nbconvert_exporter": "python",
   "pygments_lexer": "ipython3",
   "version": "3.7.3"
  }
 },
 "nbformat": 4,
 "nbformat_minor": 2
}
